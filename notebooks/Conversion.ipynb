{
 "cells": [
  {
   "cell_type": "code",
   "execution_count": 1,
   "id": "4fe4ff14-8a11-4dc8-ad13-8bc4c34c6f81",
   "metadata": {},
   "outputs": [
    {
     "name": "stdin",
     "output_type": "stream",
     "text": [
      "Enter the path to the CSV file:  Linear.csv\n",
      "Enter the condition (e.g., '<=', '>', '==', etc.):  <=\n",
      "Enter the threshold value:  200\n",
      "Enter the output filename for the transactional database:  test.csv\n"
     ]
    },
    {
     "name": "stdout",
     "output_type": "stream",
     "text": [
      "Transactional database filename: test.csv\n"
     ]
    }
   ],
   "source": [
    "import pandas as pd\n",
    "import Convert as c\n",
    "\n",
    "# Get input from the user for the CSV file path\n",
    "csv_file_path = input(\"Enter the path to the CSV file: \")\n",
    "\n",
    "# Read input from the CSV file provided by the user\n",
    "df = pd.read_csv(csv_file_path, index_col=0)\n",
    "\n",
    "# Get input from the user for the condition and threshold value\n",
    "condition = input(\"Enter the condition (e.g., '<=', '>', '==', etc.): \")\n",
    "threshold = float(input(\"Enter the threshold value: \"))\n",
    "\n",
    "# Perform conversion\n",
    "obj = c.DenseDF2DB(df, condition, threshold)  # Define the condition and threshold value\n",
    "\n",
    "# Get input from the user for the filename of the transactional database\n",
    "transactional_db_filename = input(\"Enter the output filename for the transactional database: \")\n",
    "\n",
    "# Create the transactional database\n",
    "obj.create_transactional(transactional_db_filename)\n",
    "\n",
    "# Get the filename of the transactional database\n",
    "transactional_db = obj.get_file_name()\n",
    "\n",
    "# Print the filename\n",
    "print(\"Transactional database filename:\", transactional_db)\n",
    "\n"
   ]
  },
  {
   "cell_type": "code",
   "execution_count": null,
   "id": "39fe17b8-d593-4df8-9463-23969637ebf6",
   "metadata": {},
   "outputs": [],
   "source": []
  }
 ],
 "metadata": {
  "kernelspec": {
   "display_name": "Python 3 (ipykernel)",
   "language": "python",
   "name": "python3"
  },
  "language_info": {
   "codemirror_mode": {
    "name": "ipython",
    "version": 3
   },
   "file_extension": ".py",
   "mimetype": "text/x-python",
   "name": "python",
   "nbconvert_exporter": "python",
   "pygments_lexer": "ipython3",
   "version": "3.11.3"
  }
 },
 "nbformat": 4,
 "nbformat_minor": 5
}
