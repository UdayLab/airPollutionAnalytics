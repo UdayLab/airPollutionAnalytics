{
  "cells": [
    {
      "cell_type": "markdown",
      "metadata": {
        "id": "view-in-github",
        "colab_type": "text"
      },
      "source": [
        "<a href=\"https://colab.research.google.com/github/UdayLab/airPollutionAnalytics/blob/main/notebooks/Conversion_transactional.ipynb\" target=\"_parent\"><img src=\"https://colab.research.google.com/assets/colab-badge.svg\" alt=\"Open In Colab\"/></a>"
      ]
    },
    {
      "cell_type": "code",
      "execution_count": null,
      "id": "bea8bccd-f101-4327-9b5f-91da06e2010d",
      "metadata": {
        "tags": [],
        "id": "bea8bccd-f101-4327-9b5f-91da06e2010d",
        "outputId": "3eb00326-df86-488d-f4a2-07a039e1d0b6"
      },
      "outputs": [
        {
          "name": "stdin",
          "output_type": "stream",
          "text": [
            "Enter the condition (e.g., '>=', '<=', '=='):  >=\n",
            "Enter the threshold value:  40\n",
            "Enter the path to the input CSV file:  Linear_Output.csv\n",
            "Enter the name of the output CSV file:  transactional_data.csv\n"
          ]
        }
      ],
      "source": [
        "import Transactional as t\n",
        "import pandas as pd\n",
        "\n",
        "# Prompt the user for input values\n",
        "condition = input(\"Enter the condition (e.g., '>=', '<=', '=='): \")\n",
        "threshold = float(input(\"Enter the threshold value: \"))\n",
        "input_file = input(\"Enter the path to the input CSV file: \")\n",
        "output_file = input(\"Enter the name of the output CSV file: \")\n",
        "\n",
        "# Read the input DataFrame from the CSV file\n",
        "inputDF = pd.read_csv(input_file)\n",
        "\n",
        "# Create an instance of denseDF2DB\n",
        "converter = t.denseDF2DB(inputDF, condition, threshold)\n",
        "\n",
        "# Call the createTransactional method to convert the input file and save the transactional database\n",
        "converter.createTransactional(output_file)"
      ]
    },
    {
      "cell_type": "code",
      "execution_count": null,
      "id": "fd40fb99-7e4e-484f-b892-d419f7a23d32",
      "metadata": {
        "id": "fd40fb99-7e4e-484f-b892-d419f7a23d32"
      },
      "outputs": [],
      "source": []
    }
  ],
  "metadata": {
    "kernelspec": {
      "display_name": "Python 3 (ipykernel)",
      "language": "python",
      "name": "python3"
    },
    "language_info": {
      "codemirror_mode": {
        "name": "ipython",
        "version": 3
      },
      "file_extension": ".py",
      "mimetype": "text/x-python",
      "name": "python",
      "nbconvert_exporter": "python",
      "pygments_lexer": "ipython3",
      "version": "3.11.3"
    },
    "colab": {
      "provenance": [],
      "include_colab_link": true
    }
  },
  "nbformat": 4,
  "nbformat_minor": 5
}