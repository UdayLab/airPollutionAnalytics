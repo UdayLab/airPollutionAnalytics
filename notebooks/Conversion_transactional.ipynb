{
  "cells": [
    {
      "cell_type": "markdown",
      "metadata": {
        "id": "view-in-github",
        "colab_type": "text"
      },
      "source": [
        "<a href=\"https://colab.research.google.com/github/UdayLab/airPollutionAnalytics/blob/main/notebooks/Conversion_transactional.ipynb\" target=\"_parent\"><img src=\"https://colab.research.google.com/assets/colab-badge.svg\" alt=\"Open In Colab\"/></a>"
      ]
    },
    {
      "cell_type": "code",
      "execution_count": null,
      "id": "bea8bccd-f101-4327-9b5f-91da06e2010d",
      "metadata": {
        "tags": [],
        "id": "bea8bccd-f101-4327-9b5f-91da06e2010d",
        "outputId": "48c58913-2e1c-475a-ed4f-6abb2b317b7e"
      },
      "outputs": [
        {
          "name": "stdin",
          "output_type": "stream",
          "text": [
            "Enter the input filename:  Linear_Regression.csv\n",
            "Enter the output filename   HeavyPollutionRecordingSensors.csv\n",
            "Enter the operator (e.g., '>=' or '<='):  >=\n",
            "Enter the threshold PM 2.5 value that is considered dangerous(e.g., 35):  35\n"
          ]
        },
        {
          "name": "stdout",
          "output_type": "stream",
          "text": [
            "The output file is saved as HeavyPollutionRecordingSensors.csv\n"
          ]
        }
      ],
      "source": [
        "import Transactional as t\n",
        "import pandas as pd\n",
        "\n",
        "# Taking input from the user\n",
        "input_filename = input(\"Enter the input filename: \")\n",
        "output_filename = input(\"Enter the output filename  \")\n",
        "operator = input(\"Enter the operator (e.g., '>=' or '<='): \")\n",
        "threshold = float(input(\"Enter the threshold PM 2.5 value that is considered dangerous(e.g., 35): \"))\n",
        "\n",
        "dataset = pd.read_csv(input_filename)\n",
        "\n",
        "# Convert DataFrame into a transactional database and save it as a CSV file\n",
        "obj = t.DataFrameToTransactionalDB(dataset, operator, threshold, output_filename)\n",
        "obj.create_transactional_db()\n",
        "\n",
        "# Getting the fileName of the transactional database\n",
        "print('The output file is saved as ' + obj.transactional_db)"
      ]
    },
    {
      "cell_type": "code",
      "execution_count": null,
      "id": "fd40fb99-7e4e-484f-b892-d419f7a23d32",
      "metadata": {
        "id": "fd40fb99-7e4e-484f-b892-d419f7a23d32"
      },
      "outputs": [],
      "source": []
    }
  ],
  "metadata": {
    "kernelspec": {
      "display_name": "Python 3 (ipykernel)",
      "language": "python",
      "name": "python3"
    },
    "language_info": {
      "codemirror_mode": {
        "name": "ipython",
        "version": 3
      },
      "file_extension": ".py",
      "mimetype": "text/x-python",
      "name": "python",
      "nbconvert_exporter": "python",
      "pygments_lexer": "ipython3",
      "version": "3.11.3"
    },
    "colab": {
      "provenance": [],
      "include_colab_link": true
    }
  },
  "nbformat": 4,
  "nbformat_minor": 5
}