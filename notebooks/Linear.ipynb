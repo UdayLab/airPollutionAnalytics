{
 "cells": [
  {
   "cell_type": "code",
   "execution_count": 1,
   "id": "09aa677b-bd89-4ed7-84fc-931735f66a6f",
   "metadata": {
    "tags": []
   },
   "outputs": [
    {
     "name": "stdout",
     "output_type": "stream",
     "text": [
      "Output saved in  Linear_Regression_Output.csv\n"
     ]
    }
   ],
   "source": [
    "import Linear_Regression as R\n",
    "# Create an instance of the DataImputer class\n",
    "imputer = R.DataImputer('Preprocessing_Output.csv', 'Linear_Regression_Output.csv')\n",
    "\n",
    "# Load the data\n",
    "data = imputer.load_data()\n",
    "\n",
    "# Replace zeros with None\n",
    "data = imputer.replace_zeros_with_none(data)\n",
    "\n",
    "# Impute missing values\n",
    "data_with_imputed_values = imputer.impute_missing_values(data)\n",
    "\n",
    "# Save the output\n",
    "imputer.save_output(data_with_imputed_values)"
   ]
  },
  {
   "cell_type": "code",
   "execution_count": null,
   "id": "bc9be444-c620-4df1-ad0a-4f88eba5c07b",
   "metadata": {},
   "outputs": [],
   "source": []
  }
 ],
 "metadata": {
  "kernelspec": {
   "display_name": "Python 3 (ipykernel)",
   "language": "python",
   "name": "python3"
  },
  "language_info": {
   "codemirror_mode": {
    "name": "ipython",
    "version": 3
   },
   "file_extension": ".py",
   "mimetype": "text/x-python",
   "name": "python",
   "nbconvert_exporter": "python",
   "pygments_lexer": "ipython3",
   "version": "3.11.3"
  }
 },
 "nbformat": 4,
 "nbformat_minor": 5
}
