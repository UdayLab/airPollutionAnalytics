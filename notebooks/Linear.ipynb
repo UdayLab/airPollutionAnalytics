{
  "cells": [
    {
      "cell_type": "markdown",
      "metadata": {
        "id": "view-in-github",
        "colab_type": "text"
      },
      "source": [
        "<a href=\"https://colab.research.google.com/github/UdayLab/airPollutionAnalytics/blob/main/notebooks/Linear.ipynb\" target=\"_parent\"><img src=\"https://colab.research.google.com/assets/colab-badge.svg\" alt=\"Open In Colab\"/></a>"
      ]
    },
    {
      "cell_type": "code",
      "execution_count": null,
      "id": "09aa677b-bd89-4ed7-84fc-931735f66a6f",
      "metadata": {
        "tags": [],
        "id": "09aa677b-bd89-4ed7-84fc-931735f66a6f",
        "outputId": "edcc44e6-9e2a-43da-b387-dd0180e23628"
      },
      "outputs": [
        {
          "name": "stdin",
          "output_type": "stream",
          "text": [
            "Enter the path of the input CSV file:  PreProcessed.csv\n",
            "Enter the path of the output CSV file:  Linear_Regression.csv\n",
            "Do you want to replace zeros with None? (y/n):  y\n",
            "Do you want to impute missing values using linear regression? (y/n):  y\n"
          ]
        },
        {
          "name": "stdout",
          "output_type": "stream",
          "text": [
            "Output saved\n"
          ]
        }
      ],
      "source": [
        "import Linear_Regression as R\n",
        "\n",
        "# Input File\n",
        "input_file = input(\"Enter the path of the input CSV file: \")\n",
        "\n",
        "# Output File\n",
        "output_file = input(\"Enter the path of the output CSV file: \")\n",
        "\n",
        "# Create an instance of the DataImputer class\n",
        "imputer = R.DataImputer(input_file, output_file)\n",
        "\n",
        "# Load the data\n",
        "data = imputer.load_data()\n",
        "\n",
        "# Replace zeros with None\n",
        "replace_zeros = input(\"Do you want to replace zeros with None? (y/n): \").lower() == 'y'\n",
        "if replace_zeros:\n",
        "    data = imputer.replace_zeros_with_none(data)\n",
        "\n",
        "# Impute missing values\n",
        "impute_missing = input(\"Do you want to impute missing values using linear regression? (y/n): \").lower() == 'y'\n",
        "if impute_missing:\n",
        "    data_with_imputed_values = imputer.impute_missing_values(data)\n",
        "else:\n",
        "    data_with_imputed_values = data\n",
        "\n",
        "# Save the output\n",
        "imputer.save_output(data_with_imputed_values)\n"
      ]
    },
    {
      "cell_type": "code",
      "execution_count": null,
      "id": "bc9be444-c620-4df1-ad0a-4f88eba5c07b",
      "metadata": {
        "id": "bc9be444-c620-4df1-ad0a-4f88eba5c07b"
      },
      "outputs": [],
      "source": []
    }
  ],
  "metadata": {
    "kernelspec": {
      "display_name": "Python 3 (ipykernel)",
      "language": "python",
      "name": "python3"
    },
    "language_info": {
      "codemirror_mode": {
        "name": "ipython",
        "version": 3
      },
      "file_extension": ".py",
      "mimetype": "text/x-python",
      "name": "python",
      "nbconvert_exporter": "python",
      "pygments_lexer": "ipython3",
      "version": "3.11.3"
    },
    "colab": {
      "provenance": [],
      "include_colab_link": true
    }
  },
  "nbformat": 4,
  "nbformat_minor": 5
}