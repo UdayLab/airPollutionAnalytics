{
  "cells": [
    {
      "cell_type": "markdown",
      "metadata": {
        "id": "view-in-github",
        "colab_type": "text"
      },
      "source": [
        "<a href=\"https://colab.research.google.com/github/UdayLab/airPollutionAnalytics/blob/main/notebooks/Preprocessing_2.ipynb\" target=\"_parent\"><img src=\"https://colab.research.google.com/assets/colab-badge.svg\" alt=\"Open In Colab\"/></a>"
      ]
    },
    {
      "cell_type": "code",
      "execution_count": null,
      "id": "1e3004e9-2185-403f-82b6-b7fee6054af8",
      "metadata": {
        "tags": [],
        "id": "1e3004e9-2185-403f-82b6-b7fee6054af8",
        "outputId": "d2164f46-b643-4098-fd55-4a0ddea0fd8e"
      },
      "outputs": [
        {
          "name": "stdin",
          "output_type": "stream",
          "text": [
            "Enter the path to the input CSV file:  ETL_DATA_new.csv\n",
            "Enter the path to the output file where the processed data will be saved:  processed.csv\n",
            "Enter the column number(s) to be removed (comma-separated if multiple):  1\n",
            "Enter the value to be used for filling missing values:  0\n",
            "Enter the conditional operator for applying values (e.g., '>', '<=', '=='):  >=\n",
            "Enter the value to be used in the condition for applying values:  200\n",
            "Enter the value to replace the existing values that satisfy the condition:  0\n",
            "Enter the format for replacing missing point column names:  Point(0 0)\n",
            "Enter the maximum percentage of zero values allowed (e.g., 0.5 for 50%):  0.5\n",
            "Enter the value considered as zero:  0\n",
            "Enter the value to be used in the condition for removing columns:  -2.5\n",
            "Enter the operator for removing columns (e.g., '>', '<=', '=='):  <=\n"
          ]
        },
        {
          "name": "stdout",
          "output_type": "stream",
          "text": [
            "Saved\n"
          ]
        }
      ],
      "source": [
        "# Import the DataProcessor class from the data_processor module\n",
        "from data_processor import DataProcessor\n",
        "\n",
        "# Prompt the user for input values\n",
        "csv_file = input(\"Enter the path to the input CSV file: \")\n",
        "output_file = input(\"Enter the path to the output file where the processed data will be saved: \")\n",
        "\n",
        "column_number = input(\"Enter the column number(s) to be removed (comma-separated if multiple): \").split(',')\n",
        "column_number = [int(col.strip()) for col in column_number]\n",
        "\n",
        "missing_value_replace = input(\"Enter the value to be used for filling missing values: \")\n",
        "\n",
        "conditional_operator = input(\"Enter the conditional operator for applying values (e.g., '>', '<=', '=='): \")\n",
        "condition_value = input(\"Enter the value to be used in the condition for applying values: \")\n",
        "condition_value_replace = input(\"Enter the value to replace the existing values that satisfy the condition: \")\n",
        "\n",
        "missing_point = input(\"Enter the format for replacing missing point column names: \")\n",
        "\n",
        "threshold_per = input(\"Enter the maximum percentage of zero values allowed (e.g., 0.5 for 50%): \")\n",
        "value_check = input(\"Enter the value considered as zero: \")\n",
        "\n",
        "thres_value = input(\"Enter the value to be used in the condition for removing columns: \")\n",
        "operator = input(\"Enter the operator for removing columns (e.g., '>', '<=', '=='): \")\n",
        "\n",
        "# Create a DataProcessor instance with user-provided input\n",
        "data_processor = DataProcessor(csv_file, output_file)\n",
        "\n",
        "# Process the data with the specified parameters\n",
        "data_processor.process_data(float(thres_value), operator, column_number, float(missing_value_replace),\n",
        "                            conditional_operator, float(condition_value), float(condition_value_replace),\n",
        "                            missing_point, float(value_check), float(threshold_per))\n"
      ]
    },
    {
      "cell_type": "code",
      "execution_count": null,
      "id": "3e2515e3-9ddc-44d0-b33d-fb258d5d0d28",
      "metadata": {
        "id": "3e2515e3-9ddc-44d0-b33d-fb258d5d0d28"
      },
      "outputs": [],
      "source": []
    }
  ],
  "metadata": {
    "kernelspec": {
      "display_name": "Python 3 (ipykernel)",
      "language": "python",
      "name": "python3"
    },
    "language_info": {
      "codemirror_mode": {
        "name": "ipython",
        "version": 3
      },
      "file_extension": ".py",
      "mimetype": "text/x-python",
      "name": "python",
      "nbconvert_exporter": "python",
      "pygments_lexer": "ipython3",
      "version": "3.11.3"
    },
    "colab": {
      "provenance": [],
      "include_colab_link": true
    }
  },
  "nbformat": 4,
  "nbformat_minor": 5
}