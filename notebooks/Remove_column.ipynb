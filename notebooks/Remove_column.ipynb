{
 "cells": [
  {
   "cell_type": "code",
   "execution_count": 2,
   "id": "d6ddb6fd-84eb-4b96-ab6d-0a29a37f6647",
   "metadata": {
    "tags": []
   },
   "outputs": [
    {
     "name": "stdin",
     "output_type": "stream",
     "text": [
      "Enter the path of the input CSV file:  Output.csv\n",
      "Enter the path of the output CSV file:  Preprocessing_Output.csv\n",
      "Enter the threshold value  -50\n",
      "Enter the operator (<, >, <=, >=, ==, !=):  <\n",
      "Enter the percentage in decimal:  0.5\n",
      "value you want to check:  0\n"
     ]
    },
    {
     "name": "stdout",
     "output_type": "stream",
     "text": [
      "Saved in  Preprocessing_Output.csv\n"
     ]
    }
   ],
   "source": [
    "import RemoveSensor as R\n",
    "\n",
    "# Input File\n",
    "csv_file = input(\"Enter the path of the input CSV file: \")\n",
    "\n",
    "# Output File\n",
    "output_file = input(\"Enter the path of the output CSV file: \")\n",
    "\n",
    "# Create an instance of the DataAnalyzer class\n",
    "data_analyzer = R.DataAnalyzer(csv_file, output_file)\n",
    "\n",
    "# Get user inputs for processing\n",
    "thresholdval = float(input(\"Enter the threshold value \"))\n",
    "operator = input(\"Enter the operator (<, >, <=, >=, ==, !=): \")\n",
    "thresholdper = float(input(\"Enter the percentage in decimal: \"))\n",
    "zero_value = float(input(\"value you want to check: \"))\n",
    "\n",
    "# calling the process_csv function\n",
    "data_analyzer.process_csv(thresholdval, operator, zero_value, thresholdper)\n"
   ]
  },
  {
   "cell_type": "code",
   "execution_count": null,
   "id": "36c7cb07-d979-4d1f-bea4-65bb42078882",
   "metadata": {},
   "outputs": [],
   "source": []
  }
 ],
 "metadata": {
  "kernelspec": {
   "display_name": "Python 3 (ipykernel)",
   "language": "python",
   "name": "python3"
  },
  "language_info": {
   "codemirror_mode": {
    "name": "ipython",
    "version": 3
   },
   "file_extension": ".py",
   "mimetype": "text/x-python",
   "name": "python",
   "nbconvert_exporter": "python",
   "pygments_lexer": "ipython3",
   "version": "3.11.3"
  }
 },
 "nbformat": 4,
 "nbformat_minor": 5
}
