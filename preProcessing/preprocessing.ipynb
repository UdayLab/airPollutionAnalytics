{
  "cells": [
    {
      "cell_type": "markdown",
      "metadata": {
        "id": "view-in-github",
        "colab_type": "text"
      },
      "source": [
        "<a href=\"https://colab.research.google.com/github/UdayLab/airPollutionAnalytics/blob/main/preProcessing/preprocessing.ipynb\" target=\"_parent\"><img src=\"https://colab.research.google.com/assets/colab-badge.svg\" alt=\"Open In Colab\"/></a>"
      ]
    },
    {
      "cell_type": "code",
      "execution_count": null,
      "id": "4be8f8e5-15d5-420e-9fee-e75db880f395",
      "metadata": {
        "tags": [],
        "id": "4be8f8e5-15d5-420e-9fee-e75db880f395"
      },
      "outputs": [],
      "source": []
    },
    {
      "cell_type": "code",
      "execution_count": null,
      "id": "1e945c71-02a3-4964-9618-5246a2d5865f",
      "metadata": {
        "tags": [],
        "id": "1e945c71-02a3-4964-9618-5246a2d5865f",
        "outputId": "c2efd4f0-24e1-460c-b32b-8e8989ecf90b"
      },
      "outputs": [
        {
          "name": "stdin",
          "output_type": "stream",
          "text": [
            "Enter the path to the input CSV file:  ETL_DATA_new.csv\n",
            "Enter the path to the output CSV file:  Output.csv\n",
            "Enter the column numbers to remove (separated by commas):  0\n",
            "Enter the value to fill in for missing values:  0\n",
            "Enter the conditional operator (e.g., '>', '<=', '=='):  >\n",
            "Enter the value to use in the condition:  200\n",
            "Enter the value to replace if the condition is True:  0\n",
            "Enter the value to replace missing Latitude Longitude values:  Point(0 0)\n"
          ]
        },
        {
          "name": "stdout",
          "output_type": "stream",
          "text": [
            "Saved\n"
          ]
        }
      ],
      "source": [
        "import data as dm\n",
        "# Create an instance of the DataProcessor class\n",
        "csv_file = input(\"Enter the path to the input CSV file: \")\n",
        "output_file = input(\"Enter the path to the output CSV file: \")\n",
        "data_processor = dm.DataProcessor(csv_file, output_file)\n",
        "\n",
        "# Prompt the user for input\n",
        "\n",
        "column_numbers = list(map(int, input(\"Enter the column numbers to remove (separated by commas): \").split(',')))\n",
        "missing_value = input(\"Enter the value to fill in for missing values: \")\n",
        "conditional_operator = input(\"Enter the conditional operator (e.g., '>', '<=', '=='): \")\n",
        "condition_value = input(\"Enter the value to use in the condition: \")\n",
        "new_value = input(\"Enter the value to replace if the condition is True: \")\n",
        "missing_point = input(\"Enter the value to replace missing Latitude Longitude values: \")\n",
        "\n",
        "# Process the data with the user-provided parameters\n",
        "data_processor.process_data(column_numbers, missing_value, conditional_operator, condition_value, new_value, missing_point)"
      ]
    },
    {
      "cell_type": "code",
      "execution_count": null,
      "id": "06ef7bc0-9b44-45f5-b598-1e33b0266d6f",
      "metadata": {
        "id": "06ef7bc0-9b44-45f5-b598-1e33b0266d6f"
      },
      "outputs": [],
      "source": []
    }
  ],
  "metadata": {
    "kernelspec": {
      "display_name": "Python 3 (ipykernel)",
      "language": "python",
      "name": "python3"
    },
    "language_info": {
      "codemirror_mode": {
        "name": "ipython",
        "version": 3
      },
      "file_extension": ".py",
      "mimetype": "text/x-python",
      "name": "python",
      "nbconvert_exporter": "python",
      "pygments_lexer": "ipython3",
      "version": "3.11.3"
    },
    "colab": {
      "provenance": [],
      "include_colab_link": true
    }
  },
  "nbformat": 4,
  "nbformat_minor": 5
}